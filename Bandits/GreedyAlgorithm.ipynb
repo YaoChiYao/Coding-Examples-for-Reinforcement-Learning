{
 "cells": [
  {
   "cell_type": "markdown",
   "metadata": {},
   "source": [
    "Greedy Algorithm for Multi-arm Bandits:\n",
    "Initially, try every arm once. Then, choose the arm that has the maximum reward.\n",
    "\n",
    "Disadvantage: Very easy to run into suboptimal."
   ]
  },
  {
   "cell_type": "code",
   "execution_count": 5,
   "metadata": {
    "colab": {
     "base_uri": "https://localhost:8080/"
    },
    "executionInfo": {
     "elapsed": 597,
     "status": "ok",
     "timestamp": 1730879986183,
     "user": {
      "displayName": "Yaozhong Liu",
      "userId": "16699316983207601669"
     },
     "user_tz": -480
    },
    "id": "3AZ6RZ49UXcn",
    "outputId": "b815c770-30ef-4f4f-810c-96e067c9a062"
   },
   "outputs": [
    {
     "name": "stdout",
     "output_type": "stream",
     "text": [
      "[0. 1. 2. 3. 4. 0. 0. 0. 0. 0. 0. 0. 0. 0. 0. 0. 0. 0. 0. 0.]\n",
      "[1 1 0 1 0]\n"
     ]
    }
   ],
   "source": [
    "import numpy as np\n",
    "import random\n",
    "from scipy.stats import bernoulli\n",
    "\n",
    "#denote m as number of arms of bandits\n",
    "#denote T as the total times of playing bandits\n",
    "def GreedyAlgorithm(m, T):\n",
    "    #initialize policy\n",
    "    policy = np.zeros(T)\n",
    "    trial = np.zeros(m)\n",
    "\n",
    "    #randomly generate the bornoulli distribution for every bandit arm\n",
    "    p_values = [random.random() for _ in range(m)]\n",
    "    trial_reward = bernoulli.rvs(p_values, size=m)\n",
    "    trial_arm = [i for i in range(m)]\n",
    "\n",
    "    #choose the arm that maximizes the reward\n",
    "    optimal_arm = np.argmax(trial_reward)\n",
    "    implementation = [optimal_arm] * (T - m)\n",
    "    policy[:m] = trial_arm\n",
    "    policy[m:T] = implementation\n",
    "    return policy, trial_reward\n",
    "optimal_policy, optimal_reward = GreedyAlgorithm(5, 20)\n",
    "print(optimal_policy)\n",
    "print(optimal_reward)"
   ]
  }
 ],
 "metadata": {
  "colab": {
   "authorship_tag": "ABX9TyNe2ZP4sahhJ2RSDzmQAOSZ",
   "provenance": []
  },
  "kernelspec": {
   "display_name": "Python 3",
   "name": "python3"
  },
  "language_info": {
   "codemirror_mode": {
    "name": "ipython",
    "version": 3
   },
   "file_extension": ".py",
   "mimetype": "text/x-python",
   "name": "python",
   "nbconvert_exporter": "python",
   "pygments_lexer": "ipython3",
   "version": "3.12.6"
  }
 },
 "nbformat": 4,
 "nbformat_minor": 0
}
