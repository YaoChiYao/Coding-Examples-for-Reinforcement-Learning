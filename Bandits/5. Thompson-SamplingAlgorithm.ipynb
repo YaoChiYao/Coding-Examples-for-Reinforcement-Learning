{
 "cells": [
  {
   "cell_type": "markdown",
   "metadata": {},
   "source": [
    "Thompson-Sampling Algorithm:\n",
    "This Algorithm is based on bayesian probability.  \n",
    "Initially, we generate m prior distributions for the parameter theta. Then, sample m thetas from m prior distributions. Choose the max theta and update the distribution of theta using posterior distribution."
   ]
  },
  {
   "cell_type": "markdown",
   "metadata": {},
   "source": [
    "A simple example is for bernoulli bandits.  \n",
    "Suppose theta ~ Beta(alpha0, beta0)\n",
    "If we sample (alpha' + beta') times for an arm and denote there are alpha' 1 rewards and beta' 0 rewards.\n",
    "Then the posterior distribution will be theta ~ Beta(alpha0 + alpha1, beta0 + beta1)   "
   ]
  },
  {
   "cell_type": "code",
   "execution_count": 5,
   "metadata": {},
   "outputs": [
    {
     "name": "stdout",
     "output_type": "stream",
     "text": [
      "[0. 0. 1. 1. 0. 0. 1. 1. 1. 1.]\n",
      "[6, 9]\n",
      "[8, 7]\n"
     ]
    }
   ],
   "source": [
    "import numpy as np\n",
    "import random\n",
    "from scipy.stats import bernoulli\n",
    "from scipy.stats import beta\n",
    "\n",
    "#denote alpha0 and beta0 as parameters for beta distribution\n",
    "#denote n as trial times\n",
    "#denote m as number of arms\n",
    "def Thompson_SamplingAlgorithm(alpha0, beta0, n, m):\n",
    "    #initialize the parameter for every arm\n",
    "    alphas = [alpha0 for _ in range(m)]\n",
    "    betas = [beta0 for _ in range(m)]\n",
    "    policy = np.zeros(n)\n",
    "    for i in range(n):\n",
    "        thetas = beta.rvs(alphas, betas)\n",
    "        chosen_arm = np.argmax(thetas)\n",
    "        reward = bernoulli.rvs(thetas[chosen_arm])\n",
    "        if reward == 1:\n",
    "            alphas[chosen_arm] += 1\n",
    "        else:\n",
    "            betas[chosen_arm] += 1\n",
    "        policy[i] = chosen_arm\n",
    "    return policy, alphas, betas\n",
    "optimal_policy, alphas, betas = Thompson_SamplingAlgorithm(5,5,10,2)\n",
    "print(optimal_policy)\n",
    "print(alphas)\n",
    "print(betas)"
   ]
  }
 ],
 "metadata": {
  "kernelspec": {
   "display_name": "Python 3",
   "language": "python",
   "name": "python3"
  },
  "language_info": {
   "codemirror_mode": {
    "name": "ipython",
    "version": 3
   },
   "file_extension": ".py",
   "mimetype": "text/x-python",
   "name": "python",
   "nbconvert_exporter": "python",
   "pygments_lexer": "ipython3",
   "version": "3.12.6"
  }
 },
 "nbformat": 4,
 "nbformat_minor": 2
}
