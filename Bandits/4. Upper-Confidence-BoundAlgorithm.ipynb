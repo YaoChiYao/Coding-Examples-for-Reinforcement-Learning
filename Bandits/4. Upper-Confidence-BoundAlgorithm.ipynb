{
 "cells": [
  {
   "cell_type": "markdown",
   "metadata": {},
   "source": [
    "UCB Algorithm:\n",
    "Not just pick the biggest or randomly choose. We pick the combination or large reward and few visited."
   ]
  },
  {
   "cell_type": "code",
   "execution_count": 2,
   "metadata": {},
   "outputs": [
    {
     "name": "stdout",
     "output_type": "stream",
     "text": [
      "[0. 1. 2. 3. 4. 4. 3. 2. 2. 3. 4. 4. 3. 2. 2. 4. 4. 2. 2. 4. 4. 2. 2. 3.\n",
      " 3. 3. 4. 2. 2. 2.]\n",
      "[0. 0. 9. 4. 6.]\n",
      "[ 1.  1. 12.  7.  9.]\n"
     ]
    }
   ],
   "source": [
    "import numpy as np\n",
    "import random\n",
    "from scipy.stats import bernoulli\n",
    "\n",
    "def UCB(m, T):\n",
    "    #initialize policy\n",
    "    policy = np.zeros(T)\n",
    "    #firstly assign a very large value to each arm, meaning unexplored\n",
    "    ucb_values = [9999999 for _ in range(m)]\n",
    "    cumulative_rewards = np.zeros(m)\n",
    "    chosen_times = np.zeros(m)\n",
    "\n",
    "    #initialize p for m arms\n",
    "    p_values = [random.random() for _ in range(m)]\n",
    "\n",
    "    for i in range(T):\n",
    "        chosen_arm = np.argmax(ucb_values)\n",
    "        cumulative_rewards[chosen_arm] += bernoulli.rvs(p_values[chosen_arm])\n",
    "        policy[i] = chosen_arm\n",
    "        chosen_times[chosen_arm] += 1\n",
    "        ucb_values[chosen_arm] = cumulative_rewards[chosen_arm] / chosen_times[chosen_arm] + np.sqrt(2*np.log(i+1)/ chosen_times[chosen_arm])\n",
    "    return policy, cumulative_rewards, chosen_times\n",
    "optimal_policy, cumulative_rewards, chosen_times = UCB(5,30)\n",
    "print(optimal_policy)\n",
    "print(cumulative_rewards)\n",
    "print(chosen_times)"
   ]
  }
 ],
 "metadata": {
  "kernelspec": {
   "display_name": "Python 3",
   "language": "python",
   "name": "python3"
  },
  "language_info": {
   "codemirror_mode": {
    "name": "ipython",
    "version": 3
   },
   "file_extension": ".py",
   "mimetype": "text/x-python",
   "name": "python",
   "nbconvert_exporter": "python",
   "pygments_lexer": "ipython3",
   "version": "3.12.6"
  }
 },
 "nbformat": 4,
 "nbformat_minor": 2
}
