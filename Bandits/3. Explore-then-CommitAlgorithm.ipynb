{
 "cells": [
  {
   "cell_type": "markdown",
   "metadata": {},
   "source": [
    "Explore-then-CommitAlgorithm:\n",
    "Initially, explore each arm several times rather than one time. Then use greedy algorithm. This increases the exploration, reducing the probability of suboptimal."
   ]
  },
  {
   "cell_type": "code",
   "execution_count": 1,
   "metadata": {},
   "outputs": [
    {
     "name": "stdout",
     "output_type": "stream",
     "text": [
      "[0. 0. 0. 0. 0. 0. 0. 0. 0. 0. 1. 3. 3. 3. 3. 3. 3. 3. 1. 3.]\n",
      "[0. 2. 1. 6. 1.]\n",
      "[2, 4, 2, 10, 2]\n"
     ]
    }
   ],
   "source": [
    "import numpy as np\n",
    "import random\n",
    "from scipy.stats import bernoulli\n",
    "\n",
    "#denote m as number of arms of bandits\n",
    "#denote T as the total times of playing bandits\n",
    "#denote k as the number of pulling for each arm\n",
    "def GreedyAlgorithm(m, T, k):\n",
    "    #initialize policy\n",
    "    policy = np.zeros(T)\n",
    "    cumulative_rewards = np.zeros(m)\n",
    "    #randomly generate the bornoulli distribution for every bandit arm\n",
    "    for i in range(k):\n",
    "        p_values = [random.random() for _ in range(m)]\n",
    "        rewards = bernoulli.rvs(p_values, size=m)\n",
    "        trial_arm = [i for i in range(m)]\n",
    "        policy[k*m:k*m+m] = trial_arm\n",
    "        cumulative_rewards += rewards\n",
    "\n",
    "    chosen_times = [k for _ in range(m)]\n",
    "    #choose the arm that maximizes the reward with probability 1-epsilon\n",
    "    #choose arm arbitrarily with the probability epsilon\n",
    "    for i in range(T - k*m):\n",
    "        chosen_arm = np.argmax(cumulative_rewards / chosen_times)\n",
    "        cumulative_rewards[chosen_arm] += bernoulli.rvs(p_values[chosen_arm])\n",
    "        policy[k*m+i] = chosen_arm\n",
    "        chosen_times[chosen_arm] += 1\n",
    "    return policy, cumulative_rewards, chosen_times\n",
    "optimal_policy, cumulative_reward, chosen_times = GreedyAlgorithm(5, 20, 2)\n",
    "print(optimal_policy)\n",
    "print(cumulative_reward)\n",
    "print(chosen_times)"
   ]
  }
 ],
 "metadata": {
  "kernelspec": {
   "display_name": "Python 3",
   "language": "python",
   "name": "python3"
  },
  "language_info": {
   "codemirror_mode": {
    "name": "ipython",
    "version": 3
   },
   "file_extension": ".py",
   "mimetype": "text/x-python",
   "name": "python",
   "nbconvert_exporter": "python",
   "pygments_lexer": "ipython3",
   "version": "3.12.6"
  }
 },
 "nbformat": 4,
 "nbformat_minor": 2
}
