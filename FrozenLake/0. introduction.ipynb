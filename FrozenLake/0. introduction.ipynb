{
 "cells": [
  {
   "cell_type": "markdown",
   "metadata": {},
   "source": [
    "Basically, we implement all kinds of algorithms on FrozenLake, a Toy Text in Gym package.   \n",
    "The environment has 4*4 squares, corresponding to 16 states. The agent can go up, down, right, left, denoting 4 actions.   \n",
    "It's a classic env for Value Iteration and Policy Iteration, because we can clearly obtain the transition probability for next state given current state and action.  \n",
    "For more details, check https://www.gymlibrary.dev/environments/toy_text/frozen_lake/"
   ]
  }
 ],
 "metadata": {
  "language_info": {
   "name": "python"
  }
 },
 "nbformat": 4,
 "nbformat_minor": 2
}
